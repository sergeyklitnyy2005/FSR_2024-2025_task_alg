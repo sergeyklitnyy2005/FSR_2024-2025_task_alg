{
  "nbformat": 4,
  "nbformat_minor": 0,
  "metadata": {
    "colab": {
      "provenance": []
    },
    "kernelspec": {
      "name": "python3",
      "display_name": "Python 3"
    },
    "language_info": {
      "name": "python"
    }
  },
  "cells": [
    {
      "cell_type": "code",
      "source": [
        "import numpy as np"
      ],
      "metadata": {
        "id": "2MPM_smKT8ss"
      },
      "execution_count": 17,
      "outputs": []
    },
    {
      "cell_type": "code",
      "execution_count": 1,
      "metadata": {
        "id": "x6ZLsb2HRf34"
      },
      "outputs": [],
      "source": [
        "def two_opt(rout, mat):\n",
        "  flag_reverse = True\n",
        "  N = len(rout)\n",
        "  while flag_reverse:\n",
        "    flag_reverse = False\n",
        "    for i in range(1, N-2):\n",
        "      for j in range(i+1, N-1):\n",
        "        old_dist = mat[rout[i-1]][rout[i]] + mat[rout[j]][rout[j+1]]\n",
        "        new_dist = mat[rout[i-1]][rout[j]] + mat[rout[i]][rout[j+1]]\n",
        "\n",
        "        if new_dist < old_dist:\n",
        "          flag_reverse = True\n",
        "          rout[i:j+1] = rout[j:i-1:-1]\n",
        "  return rout"
      ]
    },
    {
      "cell_type": "code",
      "source": [],
      "metadata": {
        "id": "K2L3xdKsUnSZ"
      },
      "execution_count": 16,
      "outputs": []
    },
    {
      "cell_type": "code",
      "source": [
        "import itertools\n",
        "\n",
        "def three_opt(route, mat):\n",
        "    N = len(route)\n",
        "    improved = True\n",
        "    best_dist = 0\n",
        "\n",
        "    while improved:\n",
        "        improved = False\n",
        "        best_route = route[:]\n",
        "        best_dist = total_distance(best_route, mat)\n",
        "\n",
        "        for i in range(1, N - 4):\n",
        "            for j in range(i + 1, N - 3):\n",
        "                for k in range(j + 1, N - 1):\n",
        "                    part1 = route[:i]\n",
        "                    part2 = route[i:j]\n",
        "                    part3 = route[j:k]\n",
        "                    part4 = route[k:]\n",
        "\n",
        "                    possible_routes = [\n",
        "                        part1 + part2[::-1] + part3 + part4,\n",
        "                        part1 + part2 + part3[::-1] + part4,\n",
        "                        part1 + part2[::-1] + part3[::-1] + part4,\n",
        "                        part1 + part3 + part2 + part4,\n",
        "                        part1 + part3[::-1] + part2 + part4,\n",
        "                        part1 + part2 + part4 + part3,\n",
        "                        part1 + part4 + part3 + part2,\n",
        "                    ]\n",
        "\n",
        "                    for new_route in possible_routes:\n",
        "                        new_dist = total_distance(new_route, mat)\n",
        "                        if new_dist < best_dist:\n",
        "                            best_dist = new_dist\n",
        "                            best_route = new_route\n",
        "                            improved = True\n",
        "\n",
        "        if improved:\n",
        "            route = best_route[:]\n",
        "\n",
        "    return route, best_dist\n",
        "\n",
        "def total_distance(route, mat):\n",
        "    return sum(mat[route[i]][route[i+1]] for i in range(len(route) - 1))\n"
      ],
      "metadata": {
        "id": "n9Pa5jwBUvht"
      },
      "execution_count": 41,
      "outputs": []
    },
    {
      "cell_type": "code",
      "source": [
        "def euclidean_distance(a, b):\n",
        "    return np.linalg.norm(np.array(a) - np.array(b))\n",
        "\n",
        "def build_distance_matrix(coords):\n",
        "    N = len(coords)\n",
        "    mat = np.zeros((N, N))\n",
        "    for i in range(N):\n",
        "        for j in range(i + 1, N):\n",
        "            dist = euclidean_distance(coords[i], coords[j])\n",
        "            mat[i][j] = mat[j][i] = dist\n",
        "    return mat"
      ],
      "metadata": {
        "id": "iGQgeAlnkiWr"
      },
      "execution_count": 22,
      "outputs": []
    },
    {
      "cell_type": "code",
      "source": [
        "optimized_route = three_opt(route, dist_matrix)\n",
        "\n",
        "print(\"Оптимизированный маршрут:\", optimized_route)"
      ],
      "metadata": {
        "colab": {
          "base_uri": "https://localhost:8080/"
        },
        "id": "8pv5nh-UY-Pl",
        "outputId": "75800fb4-00af-4464-8b31-83a9491d47e2"
      },
      "execution_count": 15,
      "outputs": [
        {
          "output_type": "stream",
          "name": "stdout",
          "text": [
            "Оптимизированный маршрут: [0, 1, 3, 2, 0]\n"
          ]
        }
      ]
    },
    {
      "cell_type": "code",
      "source": [
        "with open(\"/content/tsp_5_1\") as f:\n",
        "  N = int(f.readline())\n",
        "  coords = [tuple(map(float, line.split())) for line in f]"
      ],
      "metadata": {
        "id": "bAuG7ejggXXH"
      },
      "execution_count": 38,
      "outputs": []
    },
    {
      "cell_type": "code",
      "source": [
        "dist_matrix = build_distance_matrix(coords)\n",
        "dist_matrix.shape"
      ],
      "metadata": {
        "colab": {
          "base_uri": "https://localhost:8080/"
        },
        "id": "UO7ct42FlBkd",
        "outputId": "738c4ad2-0df7-46cc-bd0e-820b535ee9c1"
      },
      "execution_count": 39,
      "outputs": [
        {
          "output_type": "execute_result",
          "data": {
            "text/plain": [
              "(5, 5)"
            ]
          },
          "metadata": {},
          "execution_count": 39
        }
      ]
    },
    {
      "cell_type": "code",
      "source": [
        "initial_route = list(range(N))\n",
        "\n",
        "optimized_route, optimized_distance = three_opt(initial_route, dist_matrix)\n",
        "\n",
        "print(f\"{optimized_distance:.6f} 1\")\n",
        "print(*optimized_route)"
      ],
      "metadata": {
        "colab": {
          "base_uri": "https://localhost:8080/"
        },
        "id": "QN2WshiilrQw",
        "outputId": "c304d419-fe30-4f9c-ff80-3a358524a549"
      },
      "execution_count": 40,
      "outputs": [
        {
          "output_type": "stream",
          "name": "stdout",
          "text": [
            "3.000000 1\n",
            "0 1 2 3 4\n"
          ]
        }
      ]
    },
    {
      "cell_type": "code",
      "source": [],
      "metadata": {
        "id": "F_YQDiJmpC63"
      },
      "execution_count": null,
      "outputs": []
    }
  ]
}